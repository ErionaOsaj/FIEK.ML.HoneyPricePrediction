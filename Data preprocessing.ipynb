{
 "cells": [
  {
   "cell_type": "code",
   "execution_count": 1,
   "id": "ee83e3d2",
   "metadata": {},
   "outputs": [],
   "source": [
    "import pandas as pd\n",
    "import numpy as np\n",
    "from pprint import pprint\n",
    "import matplotlib.pyplot as plt\n",
    "import seaborn as sns\n",
    "from tabulate import tabulate\n"
   ]
  },
  {
   "cell_type": "code",
   "execution_count": 2,
   "id": "8c01ea7a",
   "metadata": {},
   "outputs": [],
   "source": [
    "dataset = pd.read_csv('Data/honey_purity_dataset.csv')\n"
   ]
  },
  {
   "cell_type": "code",
   "execution_count": 3,
   "id": "dd77f5ff",
   "metadata": {},
   "outputs": [
    {
     "name": "stdout",
     "output_type": "stream",
     "text": [
      "<class 'pandas.core.frame.DataFrame'>\n",
      "RangeIndex: 247903 entries, 0 to 247902\n",
      "Data columns (total 11 columns):\n",
      " #   Column           Non-Null Count   Dtype  \n",
      "---  ------           --------------   -----  \n",
      " 0   CS               247903 non-null  float64\n",
      " 1   Density          247903 non-null  float64\n",
      " 2   WC               247903 non-null  float64\n",
      " 3   pH               247903 non-null  float64\n",
      " 4   EC               247903 non-null  float64\n",
      " 5   F                247903 non-null  float64\n",
      " 6   G                247903 non-null  float64\n",
      " 7   Pollen_analysis  247903 non-null  object \n",
      " 8   Viscosity        247903 non-null  float64\n",
      " 9   Purity           247903 non-null  float64\n",
      " 10  Price            247903 non-null  float64\n",
      "dtypes: float64(10), object(1)\n",
      "memory usage: 20.8+ MB\n"
     ]
    }
   ],
   "source": [
    "dataset.info()"
   ]
  },
  {
   "cell_type": "code",
   "execution_count": 4,
   "id": "5ac5bec2",
   "metadata": {},
   "outputs": [
    {
     "data": {
      "text/html": [
       "<div>\n",
       "<style scoped>\n",
       "    .dataframe tbody tr th:only-of-type {\n",
       "        vertical-align: middle;\n",
       "    }\n",
       "\n",
       "    .dataframe tbody tr th {\n",
       "        vertical-align: top;\n",
       "    }\n",
       "\n",
       "    .dataframe thead th {\n",
       "        text-align: right;\n",
       "    }\n",
       "</style>\n",
       "<table border=\"1\" class=\"dataframe\">\n",
       "  <thead>\n",
       "    <tr style=\"text-align: right;\">\n",
       "      <th></th>\n",
       "      <th>CS</th>\n",
       "      <th>Density</th>\n",
       "      <th>WC</th>\n",
       "      <th>pH</th>\n",
       "      <th>EC</th>\n",
       "      <th>F</th>\n",
       "      <th>G</th>\n",
       "      <th>Pollen_analysis</th>\n",
       "      <th>Viscosity</th>\n",
       "      <th>Purity</th>\n",
       "      <th>Price</th>\n",
       "    </tr>\n",
       "  </thead>\n",
       "  <tbody>\n",
       "    <tr>\n",
       "      <th>0</th>\n",
       "      <td>2.81</td>\n",
       "      <td>1.75</td>\n",
       "      <td>23.04</td>\n",
       "      <td>6.29</td>\n",
       "      <td>0.76</td>\n",
       "      <td>39.02</td>\n",
       "      <td>33.63</td>\n",
       "      <td>Blueberry</td>\n",
       "      <td>4844.50</td>\n",
       "      <td>0.68</td>\n",
       "      <td>645.24</td>\n",
       "    </tr>\n",
       "    <tr>\n",
       "      <th>1</th>\n",
       "      <td>9.47</td>\n",
       "      <td>1.82</td>\n",
       "      <td>17.50</td>\n",
       "      <td>7.20</td>\n",
       "      <td>0.71</td>\n",
       "      <td>38.15</td>\n",
       "      <td>34.41</td>\n",
       "      <td>Alfalfa</td>\n",
       "      <td>6689.02</td>\n",
       "      <td>0.89</td>\n",
       "      <td>385.85</td>\n",
       "    </tr>\n",
       "    <tr>\n",
       "      <th>2</th>\n",
       "      <td>4.61</td>\n",
       "      <td>1.84</td>\n",
       "      <td>23.72</td>\n",
       "      <td>7.31</td>\n",
       "      <td>0.80</td>\n",
       "      <td>27.47</td>\n",
       "      <td>34.36</td>\n",
       "      <td>Chestnut</td>\n",
       "      <td>6883.60</td>\n",
       "      <td>0.66</td>\n",
       "      <td>639.64</td>\n",
       "    </tr>\n",
       "    <tr>\n",
       "      <th>3</th>\n",
       "      <td>1.77</td>\n",
       "      <td>1.40</td>\n",
       "      <td>16.61</td>\n",
       "      <td>4.01</td>\n",
       "      <td>0.78</td>\n",
       "      <td>31.52</td>\n",
       "      <td>28.15</td>\n",
       "      <td>Blueberry</td>\n",
       "      <td>7167.56</td>\n",
       "      <td>1.00</td>\n",
       "      <td>946.46</td>\n",
       "    </tr>\n",
       "    <tr>\n",
       "      <th>4</th>\n",
       "      <td>6.11</td>\n",
       "      <td>1.25</td>\n",
       "      <td>19.63</td>\n",
       "      <td>4.82</td>\n",
       "      <td>0.90</td>\n",
       "      <td>29.65</td>\n",
       "      <td>42.52</td>\n",
       "      <td>Alfalfa</td>\n",
       "      <td>5125.44</td>\n",
       "      <td>1.00</td>\n",
       "      <td>432.62</td>\n",
       "    </tr>\n",
       "  </tbody>\n",
       "</table>\n",
       "</div>"
      ],
      "text/plain": [
       "     CS  Density     WC    pH    EC      F      G Pollen_analysis  Viscosity  \\\n",
       "0  2.81     1.75  23.04  6.29  0.76  39.02  33.63       Blueberry    4844.50   \n",
       "1  9.47     1.82  17.50  7.20  0.71  38.15  34.41         Alfalfa    6689.02   \n",
       "2  4.61     1.84  23.72  7.31  0.80  27.47  34.36        Chestnut    6883.60   \n",
       "3  1.77     1.40  16.61  4.01  0.78  31.52  28.15       Blueberry    7167.56   \n",
       "4  6.11     1.25  19.63  4.82  0.90  29.65  42.52         Alfalfa    5125.44   \n",
       "\n",
       "   Purity   Price  \n",
       "0    0.68  645.24  \n",
       "1    0.89  385.85  \n",
       "2    0.66  639.64  \n",
       "3    1.00  946.46  \n",
       "4    1.00  432.62  "
      ]
     },
     "execution_count": 4,
     "metadata": {},
     "output_type": "execute_result"
    }
   ],
   "source": [
    "dataset.head(5) "
   ]
  },
  {
   "cell_type": "code",
   "execution_count": 5,
   "id": "e8ad8f84",
   "metadata": {},
   "outputs": [
    {
     "data": {
      "text/html": [
       "<div>\n",
       "<style scoped>\n",
       "    .dataframe tbody tr th:only-of-type {\n",
       "        vertical-align: middle;\n",
       "    }\n",
       "\n",
       "    .dataframe tbody tr th {\n",
       "        vertical-align: top;\n",
       "    }\n",
       "\n",
       "    .dataframe thead th {\n",
       "        text-align: right;\n",
       "    }\n",
       "</style>\n",
       "<table border=\"1\" class=\"dataframe\">\n",
       "  <thead>\n",
       "    <tr style=\"text-align: right;\">\n",
       "      <th></th>\n",
       "      <th>CS</th>\n",
       "      <th>Density</th>\n",
       "      <th>WC</th>\n",
       "      <th>pH</th>\n",
       "      <th>EC</th>\n",
       "      <th>F</th>\n",
       "      <th>G</th>\n",
       "      <th>Viscosity</th>\n",
       "      <th>Purity</th>\n",
       "      <th>Price</th>\n",
       "    </tr>\n",
       "  </thead>\n",
       "  <tbody>\n",
       "    <tr>\n",
       "      <th>count</th>\n",
       "      <td>247903.000000</td>\n",
       "      <td>247903.000000</td>\n",
       "      <td>247903.000000</td>\n",
       "      <td>247903.000000</td>\n",
       "      <td>247903.000000</td>\n",
       "      <td>247903.000000</td>\n",
       "      <td>247903.000000</td>\n",
       "      <td>247903.000000</td>\n",
       "      <td>247903.000000</td>\n",
       "      <td>247903.000000</td>\n",
       "    </tr>\n",
       "    <tr>\n",
       "      <th>mean</th>\n",
       "      <td>5.500259</td>\n",
       "      <td>1.535523</td>\n",
       "      <td>18.502625</td>\n",
       "      <td>4.996047</td>\n",
       "      <td>0.799974</td>\n",
       "      <td>34.970573</td>\n",
       "      <td>32.501006</td>\n",
       "      <td>5752.893888</td>\n",
       "      <td>0.824471</td>\n",
       "      <td>594.807644</td>\n",
       "    </tr>\n",
       "    <tr>\n",
       "      <th>std</th>\n",
       "      <td>2.593947</td>\n",
       "      <td>0.187824</td>\n",
       "      <td>3.748635</td>\n",
       "      <td>1.444060</td>\n",
       "      <td>0.057911</td>\n",
       "      <td>8.655898</td>\n",
       "      <td>7.226290</td>\n",
       "      <td>2455.739903</td>\n",
       "      <td>0.139417</td>\n",
       "      <td>233.627972</td>\n",
       "    </tr>\n",
       "    <tr>\n",
       "      <th>min</th>\n",
       "      <td>1.000000</td>\n",
       "      <td>1.210000</td>\n",
       "      <td>12.000000</td>\n",
       "      <td>2.500000</td>\n",
       "      <td>0.700000</td>\n",
       "      <td>20.000000</td>\n",
       "      <td>20.000000</td>\n",
       "      <td>1500.050000</td>\n",
       "      <td>0.610000</td>\n",
       "      <td>128.720000</td>\n",
       "    </tr>\n",
       "    <tr>\n",
       "      <th>25%</th>\n",
       "      <td>3.260000</td>\n",
       "      <td>1.370000</td>\n",
       "      <td>15.260000</td>\n",
       "      <td>3.750000</td>\n",
       "      <td>0.750000</td>\n",
       "      <td>27.460000</td>\n",
       "      <td>26.230000</td>\n",
       "      <td>3627.880000</td>\n",
       "      <td>0.660000</td>\n",
       "      <td>433.000000</td>\n",
       "    </tr>\n",
       "    <tr>\n",
       "      <th>50%</th>\n",
       "      <td>5.500000</td>\n",
       "      <td>1.540000</td>\n",
       "      <td>18.510000</td>\n",
       "      <td>4.990000</td>\n",
       "      <td>0.800000</td>\n",
       "      <td>34.970000</td>\n",
       "      <td>32.490000</td>\n",
       "      <td>5753.770000</td>\n",
       "      <td>0.820000</td>\n",
       "      <td>612.960000</td>\n",
       "    </tr>\n",
       "    <tr>\n",
       "      <th>75%</th>\n",
       "      <td>7.740000</td>\n",
       "      <td>1.700000</td>\n",
       "      <td>21.750000</td>\n",
       "      <td>6.250000</td>\n",
       "      <td>0.850000</td>\n",
       "      <td>42.470000</td>\n",
       "      <td>38.760000</td>\n",
       "      <td>7886.650000</td>\n",
       "      <td>0.970000</td>\n",
       "      <td>770.220000</td>\n",
       "    </tr>\n",
       "    <tr>\n",
       "      <th>max</th>\n",
       "      <td>10.000000</td>\n",
       "      <td>1.860000</td>\n",
       "      <td>25.000000</td>\n",
       "      <td>7.500000</td>\n",
       "      <td>0.900000</td>\n",
       "      <td>50.000000</td>\n",
       "      <td>45.000000</td>\n",
       "      <td>9999.970000</td>\n",
       "      <td>1.000000</td>\n",
       "      <td>976.690000</td>\n",
       "    </tr>\n",
       "  </tbody>\n",
       "</table>\n",
       "</div>"
      ],
      "text/plain": [
       "                  CS        Density             WC             pH  \\\n",
       "count  247903.000000  247903.000000  247903.000000  247903.000000   \n",
       "mean        5.500259       1.535523      18.502625       4.996047   \n",
       "std         2.593947       0.187824       3.748635       1.444060   \n",
       "min         1.000000       1.210000      12.000000       2.500000   \n",
       "25%         3.260000       1.370000      15.260000       3.750000   \n",
       "50%         5.500000       1.540000      18.510000       4.990000   \n",
       "75%         7.740000       1.700000      21.750000       6.250000   \n",
       "max        10.000000       1.860000      25.000000       7.500000   \n",
       "\n",
       "                  EC              F              G      Viscosity  \\\n",
       "count  247903.000000  247903.000000  247903.000000  247903.000000   \n",
       "mean        0.799974      34.970573      32.501006    5752.893888   \n",
       "std         0.057911       8.655898       7.226290    2455.739903   \n",
       "min         0.700000      20.000000      20.000000    1500.050000   \n",
       "25%         0.750000      27.460000      26.230000    3627.880000   \n",
       "50%         0.800000      34.970000      32.490000    5753.770000   \n",
       "75%         0.850000      42.470000      38.760000    7886.650000   \n",
       "max         0.900000      50.000000      45.000000    9999.970000   \n",
       "\n",
       "              Purity          Price  \n",
       "count  247903.000000  247903.000000  \n",
       "mean        0.824471     594.807644  \n",
       "std         0.139417     233.627972  \n",
       "min         0.610000     128.720000  \n",
       "25%         0.660000     433.000000  \n",
       "50%         0.820000     612.960000  \n",
       "75%         0.970000     770.220000  \n",
       "max         1.000000     976.690000  "
      ]
     },
     "execution_count": 5,
     "metadata": {},
     "output_type": "execute_result"
    }
   ],
   "source": [
    "dataset.describe() \n"
   ]
  },
  {
   "cell_type": "code",
   "execution_count": 6,
   "id": "dc6b0577",
   "metadata": {},
   "outputs": [
    {
     "data": {
      "text/plain": [
       "0"
      ]
     },
     "execution_count": 6,
     "metadata": {},
     "output_type": "execute_result"
    }
   ],
   "source": [
    "dataset.duplicated().sum()\n"
   ]
  },
  {
   "cell_type": "code",
   "execution_count": 7,
   "id": "0e0b16e4",
   "metadata": {},
   "outputs": [
    {
     "data": {
      "text/plain": [
       "CS                 0\n",
       "Density            0\n",
       "WC                 0\n",
       "pH                 0\n",
       "EC                 0\n",
       "F                  0\n",
       "G                  0\n",
       "Pollen_analysis    0\n",
       "Viscosity          0\n",
       "Purity             0\n",
       "Price              0\n",
       "dtype: int64"
      ]
     },
     "execution_count": 7,
     "metadata": {},
     "output_type": "execute_result"
    }
   ],
   "source": [
    "dataset.isnull().sum(axis = 0)"
   ]
  },
  {
   "cell_type": "code",
   "execution_count": 8,
   "id": "6df0cd6a",
   "metadata": {},
   "outputs": [
    {
     "data": {
      "text/html": [
       "<div>\n",
       "<style scoped>\n",
       "    .dataframe tbody tr th:only-of-type {\n",
       "        vertical-align: middle;\n",
       "    }\n",
       "\n",
       "    .dataframe tbody tr th {\n",
       "        vertical-align: top;\n",
       "    }\n",
       "\n",
       "    .dataframe thead th {\n",
       "        text-align: right;\n",
       "    }\n",
       "</style>\n",
       "<table border=\"1\" class=\"dataframe\">\n",
       "  <thead>\n",
       "    <tr style=\"text-align: right;\">\n",
       "      <th></th>\n",
       "      <th>Pollen_analysis</th>\n",
       "    </tr>\n",
       "  </thead>\n",
       "  <tbody>\n",
       "    <tr>\n",
       "      <th>count</th>\n",
       "      <td>247903</td>\n",
       "    </tr>\n",
       "    <tr>\n",
       "      <th>unique</th>\n",
       "      <td>19</td>\n",
       "    </tr>\n",
       "    <tr>\n",
       "      <th>top</th>\n",
       "      <td>Eucalyptus</td>\n",
       "    </tr>\n",
       "    <tr>\n",
       "      <th>freq</th>\n",
       "      <td>13194</td>\n",
       "    </tr>\n",
       "  </tbody>\n",
       "</table>\n",
       "</div>"
      ],
      "text/plain": [
       "       Pollen_analysis\n",
       "count           247903\n",
       "unique              19\n",
       "top         Eucalyptus\n",
       "freq             13194"
      ]
     },
     "execution_count": 8,
     "metadata": {},
     "output_type": "execute_result"
    }
   ],
   "source": [
    "dataset.describe(include=['object'])"
   ]
  },
  {
   "cell_type": "code",
   "execution_count": 9,
   "id": "a5658b39",
   "metadata": {},
   "outputs": [],
   "source": [
    "def display_unique_values(df, column_name):\n",
    "    pd.set_option('display.max_rows', None)\n",
    "\n",
    "    value_counts = df[column_name].value_counts()\n",
    "\n",
    "    unique_values_df = pd.DataFrame({\n",
    "    'Unique_Values': value_counts.index,\n",
    "    'Record_Count': value_counts.values\n",
    "    })\n",
    "    pd.reset_option('display.max_rows')\n",
    "\n",
    "    print(unique_values_df)"
   ]
  },
  {
   "cell_type": "code",
   "execution_count": 10,
   "id": "33bd5ef6",
   "metadata": {},
   "outputs": [
    {
     "name": "stdout",
     "output_type": "stream",
     "text": [
      "     Unique_Values  Record_Count\n",
      "0       Eucalyptus         13194\n",
      "1          Avocado         13191\n",
      "2          Heather         13187\n",
      "3            Thyme         13156\n",
      "4        Sunflower         13148\n",
      "5             Sage         13117\n",
      "6        Blueberry         13106\n",
      "7         Lavender         13086\n",
      "8          Alfalfa         13049\n",
      "9        Buckwheat         13036\n",
      "10        Chestnut         13020\n",
      "11      Wildflower         13016\n",
      "12          Manuka         13003\n",
      "13          Borage         13000\n",
      "14  Orange Blossom         12992\n",
      "15          Acacia         12976\n",
      "16        Rosemary         12930\n",
      "17          Clover         12910\n",
      "18          Tupelo         12786\n"
     ]
    }
   ],
   "source": [
    "display_unique_values(dataset, 'Pollen_analysis')\n"
   ]
  },
  {
   "cell_type": "code",
   "execution_count": 11,
   "id": "a15362a3",
   "metadata": {},
   "outputs": [
    {
     "data": {
      "text/html": [
       "<div>\n",
       "<style scoped>\n",
       "    .dataframe tbody tr th:only-of-type {\n",
       "        vertical-align: middle;\n",
       "    }\n",
       "\n",
       "    .dataframe tbody tr th {\n",
       "        vertical-align: top;\n",
       "    }\n",
       "\n",
       "    .dataframe thead tr th {\n",
       "        text-align: left;\n",
       "    }\n",
       "\n",
       "    .dataframe thead tr:last-of-type th {\n",
       "        text-align: right;\n",
       "    }\n",
       "</style>\n",
       "<table border=\"1\" class=\"dataframe\">\n",
       "  <thead>\n",
       "    <tr>\n",
       "      <th></th>\n",
       "      <th colspan=\"3\" halign=\"left\">Purity</th>\n",
       "    </tr>\n",
       "    <tr>\n",
       "      <th></th>\n",
       "      <th>mean</th>\n",
       "      <th>min</th>\n",
       "      <th>max</th>\n",
       "    </tr>\n",
       "    <tr>\n",
       "      <th>Pollen_analysis</th>\n",
       "      <th></th>\n",
       "      <th></th>\n",
       "      <th></th>\n",
       "    </tr>\n",
       "  </thead>\n",
       "  <tbody>\n",
       "    <tr>\n",
       "      <th>Sunflower</th>\n",
       "      <td>0.827422</td>\n",
       "      <td>0.61</td>\n",
       "      <td>1.0</td>\n",
       "    </tr>\n",
       "    <tr>\n",
       "      <th>Wildflower</th>\n",
       "      <td>0.826286</td>\n",
       "      <td>0.61</td>\n",
       "      <td>1.0</td>\n",
       "    </tr>\n",
       "    <tr>\n",
       "      <th>Heather</th>\n",
       "      <td>0.826279</td>\n",
       "      <td>0.61</td>\n",
       "      <td>1.0</td>\n",
       "    </tr>\n",
       "    <tr>\n",
       "      <th>Manuka</th>\n",
       "      <td>0.825376</td>\n",
       "      <td>0.61</td>\n",
       "      <td>1.0</td>\n",
       "    </tr>\n",
       "    <tr>\n",
       "      <th>Rosemary</th>\n",
       "      <td>0.824689</td>\n",
       "      <td>0.61</td>\n",
       "      <td>1.0</td>\n",
       "    </tr>\n",
       "    <tr>\n",
       "      <th>Buckwheat</th>\n",
       "      <td>0.824577</td>\n",
       "      <td>0.61</td>\n",
       "      <td>1.0</td>\n",
       "    </tr>\n",
       "    <tr>\n",
       "      <th>Borage</th>\n",
       "      <td>0.824468</td>\n",
       "      <td>0.61</td>\n",
       "      <td>1.0</td>\n",
       "    </tr>\n",
       "    <tr>\n",
       "      <th>Orange Blossom</th>\n",
       "      <td>0.824386</td>\n",
       "      <td>0.61</td>\n",
       "      <td>1.0</td>\n",
       "    </tr>\n",
       "    <tr>\n",
       "      <th>Avocado</th>\n",
       "      <td>0.824386</td>\n",
       "      <td>0.61</td>\n",
       "      <td>1.0</td>\n",
       "    </tr>\n",
       "    <tr>\n",
       "      <th>Alfalfa</th>\n",
       "      <td>0.824244</td>\n",
       "      <td>0.61</td>\n",
       "      <td>1.0</td>\n",
       "    </tr>\n",
       "    <tr>\n",
       "      <th>Lavender</th>\n",
       "      <td>0.824137</td>\n",
       "      <td>0.61</td>\n",
       "      <td>1.0</td>\n",
       "    </tr>\n",
       "    <tr>\n",
       "      <th>Thyme</th>\n",
       "      <td>0.824094</td>\n",
       "      <td>0.61</td>\n",
       "      <td>1.0</td>\n",
       "    </tr>\n",
       "    <tr>\n",
       "      <th>Eucalyptus</th>\n",
       "      <td>0.823987</td>\n",
       "      <td>0.61</td>\n",
       "      <td>1.0</td>\n",
       "    </tr>\n",
       "    <tr>\n",
       "      <th>Sage</th>\n",
       "      <td>0.823964</td>\n",
       "      <td>0.61</td>\n",
       "      <td>1.0</td>\n",
       "    </tr>\n",
       "    <tr>\n",
       "      <th>Blueberry</th>\n",
       "      <td>0.823778</td>\n",
       "      <td>0.61</td>\n",
       "      <td>1.0</td>\n",
       "    </tr>\n",
       "    <tr>\n",
       "      <th>Tupelo</th>\n",
       "      <td>0.823300</td>\n",
       "      <td>0.61</td>\n",
       "      <td>1.0</td>\n",
       "    </tr>\n",
       "    <tr>\n",
       "      <th>Clover</th>\n",
       "      <td>0.823283</td>\n",
       "      <td>0.61</td>\n",
       "      <td>1.0</td>\n",
       "    </tr>\n",
       "    <tr>\n",
       "      <th>Chestnut</th>\n",
       "      <td>0.823264</td>\n",
       "      <td>0.61</td>\n",
       "      <td>1.0</td>\n",
       "    </tr>\n",
       "    <tr>\n",
       "      <th>Acacia</th>\n",
       "      <td>0.822967</td>\n",
       "      <td>0.61</td>\n",
       "      <td>1.0</td>\n",
       "    </tr>\n",
       "  </tbody>\n",
       "</table>\n",
       "</div>"
      ],
      "text/plain": [
       "                   Purity           \n",
       "                     mean   min  max\n",
       "Pollen_analysis                     \n",
       "Sunflower        0.827422  0.61  1.0\n",
       "Wildflower       0.826286  0.61  1.0\n",
       "Heather          0.826279  0.61  1.0\n",
       "Manuka           0.825376  0.61  1.0\n",
       "Rosemary         0.824689  0.61  1.0\n",
       "Buckwheat        0.824577  0.61  1.0\n",
       "Borage           0.824468  0.61  1.0\n",
       "Orange Blossom   0.824386  0.61  1.0\n",
       "Avocado          0.824386  0.61  1.0\n",
       "Alfalfa          0.824244  0.61  1.0\n",
       "Lavender         0.824137  0.61  1.0\n",
       "Thyme            0.824094  0.61  1.0\n",
       "Eucalyptus       0.823987  0.61  1.0\n",
       "Sage             0.823964  0.61  1.0\n",
       "Blueberry        0.823778  0.61  1.0\n",
       "Tupelo           0.823300  0.61  1.0\n",
       "Clover           0.823283  0.61  1.0\n",
       "Chestnut         0.823264  0.61  1.0\n",
       "Acacia           0.822967  0.61  1.0"
      ]
     },
     "metadata": {},
     "output_type": "display_data"
    }
   ],
   "source": [
    "combined_aggregation = dataset.groupby('Pollen_analysis').agg({\n",
    "    'Purity': ['mean', 'min', 'max'],  \n",
    "})\n",
    "\n",
    "combined_aggregation = combined_aggregation.sort_values(by=('Purity', 'mean'), ascending=False)\n",
    "\n",
    "display(combined_aggregation)"
   ]
  },
  {
   "cell_type": "code",
   "execution_count": 12,
   "id": "ab494277",
   "metadata": {},
   "outputs": [
    {
     "data": {
      "text/html": [
       "<div>\n",
       "<style scoped>\n",
       "    .dataframe tbody tr th:only-of-type {\n",
       "        vertical-align: middle;\n",
       "    }\n",
       "\n",
       "    .dataframe tbody tr th {\n",
       "        vertical-align: top;\n",
       "    }\n",
       "\n",
       "    .dataframe thead tr th {\n",
       "        text-align: left;\n",
       "    }\n",
       "\n",
       "    .dataframe thead tr:last-of-type th {\n",
       "        text-align: right;\n",
       "    }\n",
       "</style>\n",
       "<table border=\"1\" class=\"dataframe\">\n",
       "  <thead>\n",
       "    <tr>\n",
       "      <th></th>\n",
       "      <th colspan=\"3\" halign=\"left\">Price</th>\n",
       "    </tr>\n",
       "    <tr>\n",
       "      <th></th>\n",
       "      <th>mean</th>\n",
       "      <th>min</th>\n",
       "      <th>max</th>\n",
       "    </tr>\n",
       "    <tr>\n",
       "      <th>Pollen_analysis</th>\n",
       "      <th></th>\n",
       "      <th></th>\n",
       "      <th></th>\n",
       "    </tr>\n",
       "  </thead>\n",
       "  <tbody>\n",
       "    <tr>\n",
       "      <th>Manuka</th>\n",
       "      <td>805.745622</td>\n",
       "      <td>595.49</td>\n",
       "      <td>976.69</td>\n",
       "    </tr>\n",
       "    <tr>\n",
       "      <th>Avocado</th>\n",
       "      <td>804.771376</td>\n",
       "      <td>595.49</td>\n",
       "      <td>976.69</td>\n",
       "    </tr>\n",
       "    <tr>\n",
       "      <th>Chestnut</th>\n",
       "      <td>795.422929</td>\n",
       "      <td>589.34</td>\n",
       "      <td>966.61</td>\n",
       "    </tr>\n",
       "    <tr>\n",
       "      <th>Blueberry</th>\n",
       "      <td>779.306635</td>\n",
       "      <td>577.05</td>\n",
       "      <td>946.46</td>\n",
       "    </tr>\n",
       "    <tr>\n",
       "      <th>Tupelo</th>\n",
       "      <td>770.561404</td>\n",
       "      <td>570.91</td>\n",
       "      <td>936.38</td>\n",
       "    </tr>\n",
       "    <tr>\n",
       "      <th>Heather</th>\n",
       "      <td>765.017065</td>\n",
       "      <td>564.76</td>\n",
       "      <td>926.30</td>\n",
       "    </tr>\n",
       "    <tr>\n",
       "      <th>Sage</th>\n",
       "      <td>762.868639</td>\n",
       "      <td>564.76</td>\n",
       "      <td>926.30</td>\n",
       "    </tr>\n",
       "    <tr>\n",
       "      <th>Thyme</th>\n",
       "      <td>754.726684</td>\n",
       "      <td>558.62</td>\n",
       "      <td>916.22</td>\n",
       "    </tr>\n",
       "    <tr>\n",
       "      <th>Sunflower</th>\n",
       "      <td>732.715551</td>\n",
       "      <td>540.18</td>\n",
       "      <td>885.99</td>\n",
       "    </tr>\n",
       "    <tr>\n",
       "      <th>Rosemary</th>\n",
       "      <td>622.343930</td>\n",
       "      <td>460.31</td>\n",
       "      <td>754.98</td>\n",
       "    </tr>\n",
       "    <tr>\n",
       "      <th>Borage</th>\n",
       "      <td>613.873783</td>\n",
       "      <td>454.17</td>\n",
       "      <td>744.91</td>\n",
       "    </tr>\n",
       "    <tr>\n",
       "      <th>Eucalyptus</th>\n",
       "      <td>571.978726</td>\n",
       "      <td>423.45</td>\n",
       "      <td>694.53</td>\n",
       "    </tr>\n",
       "    <tr>\n",
       "      <th>Buckwheat</th>\n",
       "      <td>564.114152</td>\n",
       "      <td>417.31</td>\n",
       "      <td>684.45</td>\n",
       "    </tr>\n",
       "    <tr>\n",
       "      <th>Lavender</th>\n",
       "      <td>497.412851</td>\n",
       "      <td>368.17</td>\n",
       "      <td>603.85</td>\n",
       "    </tr>\n",
       "    <tr>\n",
       "      <th>Acacia</th>\n",
       "      <td>446.981373</td>\n",
       "      <td>331.32</td>\n",
       "      <td>543.41</td>\n",
       "    </tr>\n",
       "    <tr>\n",
       "      <th>Alfalfa</th>\n",
       "      <td>356.417632</td>\n",
       "      <td>263.76</td>\n",
       "      <td>432.62</td>\n",
       "    </tr>\n",
       "    <tr>\n",
       "      <th>Wildflower</th>\n",
       "      <td>265.813135</td>\n",
       "      <td>196.23</td>\n",
       "      <td>321.85</td>\n",
       "    </tr>\n",
       "    <tr>\n",
       "      <th>Orange Blossom</th>\n",
       "      <td>207.136451</td>\n",
       "      <td>153.27</td>\n",
       "      <td>251.38</td>\n",
       "    </tr>\n",
       "    <tr>\n",
       "      <th>Clover</th>\n",
       "      <td>173.729015</td>\n",
       "      <td>128.72</td>\n",
       "      <td>211.13</td>\n",
       "    </tr>\n",
       "  </tbody>\n",
       "</table>\n",
       "</div>"
      ],
      "text/plain": [
       "                      Price                \n",
       "                       mean     min     max\n",
       "Pollen_analysis                            \n",
       "Manuka           805.745622  595.49  976.69\n",
       "Avocado          804.771376  595.49  976.69\n",
       "Chestnut         795.422929  589.34  966.61\n",
       "Blueberry        779.306635  577.05  946.46\n",
       "Tupelo           770.561404  570.91  936.38\n",
       "Heather          765.017065  564.76  926.30\n",
       "Sage             762.868639  564.76  926.30\n",
       "Thyme            754.726684  558.62  916.22\n",
       "Sunflower        732.715551  540.18  885.99\n",
       "Rosemary         622.343930  460.31  754.98\n",
       "Borage           613.873783  454.17  744.91\n",
       "Eucalyptus       571.978726  423.45  694.53\n",
       "Buckwheat        564.114152  417.31  684.45\n",
       "Lavender         497.412851  368.17  603.85\n",
       "Acacia           446.981373  331.32  543.41\n",
       "Alfalfa          356.417632  263.76  432.62\n",
       "Wildflower       265.813135  196.23  321.85\n",
       "Orange Blossom   207.136451  153.27  251.38\n",
       "Clover           173.729015  128.72  211.13"
      ]
     },
     "metadata": {},
     "output_type": "display_data"
    }
   ],
   "source": [
    "combined_aggregation = dataset.groupby('Pollen_analysis').agg({\n",
    "    'Price': ['mean', 'min', 'max'],  \n",
    "})\n",
    "combined_aggregation = combined_aggregation.sort_values(by=('Price', 'mean'), ascending=False)\n",
    "\n",
    "display(combined_aggregation)"
   ]
  },
  {
   "cell_type": "code",
   "execution_count": 13,
   "id": "ae8f8c47",
   "metadata": {},
   "outputs": [],
   "source": [
    "def extract_boxplot_values(bp):\n",
    "    medians = [item.get_ydata()[0] for item in bp['medians']]\n",
    "    means = [item.get_ydata()[0] for item in bp['means']]\n",
    "    minimums = [round(item.get_ydata()[0], 1) for item in bp['caps']][::2]\n",
    "    maximums = [round(item.get_ydata()[0], 1) for item in bp['caps']][1::2]\n",
    "\n",
    "    print('Exact values from boxplot:\\n')\n",
    "    print(f'Medians: {medians}\\n'\n",
    "          f'Means: {means}\\n'\n",
    "          f'Minimums: {minimums}\\n'\n",
    "          f'Maximums: {maximums}')\n",
    "\n",
    "    boxplot_stats_array = []\n",
    "    for median, mean, minimum, maximum in zip(medians, means, minimums, maximums):\n",
    "        array = [median, mean, minimum, maximum]\n",
    "        boxplot_stats_array.append(array)    \n",
    "    print('\\n')\n",
    "    print(tabulate(boxplot_stats_array, headers=[ \"Median\", \"Mean\", \"Minimum\", \"Maximum\"]))"
   ]
  },
  {
   "cell_type": "code",
   "execution_count": 14,
   "id": "dad77508",
   "metadata": {},
   "outputs": [
    {
     "data": {
      "image/png": "[encoded data removed]",
      "text/plain": [
       "<Figure size 640x480 with 1 Axes>"
      ]
     },
     "metadata": {},
     "output_type": "display_data"
    }
   ],
   "source": [
    "bp = plt.boxplot(dataset['CS'],showmeans=True)"
   ]
  },
  {
   "cell_type": "code",
   "execution_count": 15,
   "id": "c43c11d4",
   "metadata": {},
   "outputs": [
    {
     "name": "stdout",
     "output_type": "stream",
     "text": [
      "Exact values from boxplot:\n",
      "\n",
      "Medians: [5.5]\n",
      "Means: [5.500258810905877]\n",
      "Minimums: [1.0]\n",
      "Maximums: [10.0]\n",
      "\n",
      "\n",
      "  Median     Mean    Minimum    Maximum\n",
      "--------  -------  ---------  ---------\n",
      "     5.5  5.50026          1         10\n"
     ]
    }
   ],
   "source": [
    "extract_boxplot_values(bp)"
   ]
  },
  {
   "cell_type": "code",
   "execution_count": 16,
   "id": "f882536b",
   "metadata": {},
   "outputs": [
    {
     "name": "stdout",
     "output_type": "stream",
     "text": [
      "Skewness coefficient: 6.178125748848859e-05\n"
     ]
    }
   ],
   "source": [
    "skewness = dataset['CS'].skew()\n",
    "print(f\"Skewness coefficient: {skewness}\")"
   ]
  },
  {
   "cell_type": "code",
   "execution_count": 17,
   "id": "23c6df03",
   "metadata": {},
   "outputs": [
    {
     "data": {
      "image/png": "[encoded data removed]",
      "text/plain": [
       "<Figure size 640x480 with 1 Axes>"
      ]
     },
     "metadata": {},
     "output_type": "display_data"
    }
   ],
   "source": [
    "bp = plt.boxplot(dataset['Density'],showmeans=True)"
   ]
  },
  {
   "cell_type": "code",
   "execution_count": 18,
   "id": "a8056342",
   "metadata": {},
   "outputs": [
    {
     "name": "stdout",
     "output_type": "stream",
     "text": [
      "Exact values from boxplot:\n",
      "\n",
      "Medians: [1.54]\n",
      "Means: [1.5355225229222722]\n",
      "Minimums: [1.2]\n",
      "Maximums: [1.9]\n",
      "\n",
      "\n",
      "  Median     Mean    Minimum    Maximum\n",
      "--------  -------  ---------  ---------\n",
      "    1.54  1.53552        1.2        1.9\n"
     ]
    }
   ],
   "source": [
    "extract_boxplot_values(bp)"
   ]
  },
  {
   "cell_type": "code",
   "execution_count": 19,
   "id": "41f2e017",
   "metadata": {},
   "outputs": [
    {
     "name": "stdout",
     "output_type": "stream",
     "text": [
      "Skewness coefficient: -0.000804598333213024\n"
     ]
    }
   ],
   "source": [
    "skewness = dataset['Density'].skew()\n",
    "print(f\"Skewness coefficient: {skewness}\")"
   ]
  },
  {
   "cell_type": "code",
   "execution_count": 20,
   "id": "632d1c21",
   "metadata": {},
   "outputs": [
    {
     "data": {
      "image/png": "[encoded data removed]",
      "text/plain": [
       "<Figure size 640x480 with 1 Axes>"
      ]
     },
     "metadata": {},
     "output_type": "display_data"
    }
   ],
   "source": [
    "bp = plt.boxplot(dataset['WC'],showmeans=True)"
   ]
  },
  {
   "cell_type": "code",
   "execution_count": 21,
   "id": "cc670d16",
   "metadata": {},
   "outputs": [
    {
     "name": "stdout",
     "output_type": "stream",
     "text": [
      "Exact values from boxplot:\n",
      "\n",
      "Medians: [18.51]\n",
      "Means: [18.502625381701712]\n",
      "Minimums: [12.0]\n",
      "Maximums: [25.0]\n",
      "\n",
      "\n",
      "  Median     Mean    Minimum    Maximum\n",
      "--------  -------  ---------  ---------\n",
      "   18.51  18.5026         12         25\n"
     ]
    }
   ],
   "source": [
    "extract_boxplot_values(bp)"
   ]
  },
  {
   "cell_type": "code",
   "execution_count": 22,
   "id": "d1404f82",
   "metadata": {},
   "outputs": [
    {
     "name": "stdout",
     "output_type": "stream",
     "text": [
      "Skewness coefficient: -0.0028230368254291978\n"
     ]
    }
   ],
   "source": [
    "skewness = dataset['WC'].skew()\n",
    "print(f\"Skewness coefficient: {skewness}\")"
   ]
  },
  {
   "cell_type": "code",
   "execution_count": 23,
   "id": "9749d3a7",
   "metadata": {},
   "outputs": [
    {
     "data": {
      "image/png": "[encoded data removed]",
      "text/plain": [
       "<Figure size 640x480 with 1 Axes>"
      ]
     },
     "metadata": {},
     "output_type": "display_data"
    }
   ],
   "source": [
    "bp = plt.boxplot(dataset['pH'],showmeans=True)"
   ]
  },
  {
   "cell_type": "code",
   "execution_count": 24,
   "id": "fcbc4cda",
   "metadata": {},
   "outputs": [
    {
     "name": "stdout",
     "output_type": "stream",
     "text": [
      "Exact values from boxplot:\n",
      "\n",
      "Medians: [4.99]\n",
      "Means: [4.996047405638495]\n",
      "Minimums: [2.5]\n",
      "Maximums: [7.5]\n",
      "\n",
      "\n",
      "  Median     Mean    Minimum    Maximum\n",
      "--------  -------  ---------  ---------\n",
      "    4.99  4.99605        2.5        7.5\n"
     ]
    }
   ],
   "source": [
    "extract_boxplot_values(bp)"
   ]
  },
  {
   "cell_type": "code",
   "execution_count": 25,
   "id": "3f73c449",
   "metadata": {},
   "outputs": [
    {
     "name": "stdout",
     "output_type": "stream",
     "text": [
      "Skewness coefficient: 0.0028433657611426854\n"
     ]
    }
   ],
   "source": [
    "skewness = dataset['pH'].skew()\n",
    "print(f\"Skewness coefficient: {skewness}\")"
   ]
  },
  {
   "cell_type": "code",
   "execution_count": 26,
   "id": "60fed6c4",
   "metadata": {},
   "outputs": [
    {
     "data": {
      "image/png": "[encoded data removed]",
      "text/plain": [
       "<Figure size 640x480 with 1 Axes>"
      ]
     },
     "metadata": {},
     "output_type": "display_data"
    }
   ],
   "source": [
    "bp = plt.boxplot(dataset['EC'],showmeans=True)"
   ]
  },
  {
   "cell_type": "code",
   "execution_count": 27,
   "id": "eac9242e",
   "metadata": {},
   "outputs": [
    {
     "name": "stdout",
     "output_type": "stream",
     "text": [
      "Exact values from boxplot:\n",
      "\n",
      "Medians: [0.8]\n",
      "Means: [0.7999739817589946]\n",
      "Minimums: [0.7]\n",
      "Maximums: [0.9]\n",
      "\n",
      "\n",
      "  Median      Mean    Minimum    Maximum\n",
      "--------  --------  ---------  ---------\n",
      "     0.8  0.799974        0.7        0.9\n"
     ]
    }
   ],
   "source": [
    "extract_boxplot_values(bp)"
   ]
  },
  {
   "cell_type": "code",
   "execution_count": 28,
   "id": "2cecea0a",
   "metadata": {},
   "outputs": [
    {
     "name": "stdout",
     "output_type": "stream",
     "text": [
      "Skewness coefficient: 0.0008038187121979974\n"
     ]
    }
   ],
   "source": [
    "skewness = dataset['EC'].skew()\n",
    "print(f\"Skewness coefficient: {skewness}\")"
   ]
  },
  {
   "cell_type": "code",
   "execution_count": 29,
   "id": "8050e97a",
   "metadata": {},
   "outputs": [
    {
     "data": {
      "image/png": "[encoded data removed]",
      "text/plain": [
       "<Figure size 640x480 with 1 Axes>"
      ]
     },
     "metadata": {},
     "output_type": "display_data"
    }
   ],
   "source": [
    "bp = plt.boxplot(dataset['F'],showmeans=True)"
   ]
  },
  {
   "cell_type": "code",
   "execution_count": 30,
   "id": "4be59418",
   "metadata": {},
   "outputs": [
    {
     "name": "stdout",
     "output_type": "stream",
     "text": [
      "Exact values from boxplot:\n",
      "\n",
      "Medians: [34.97]\n",
      "Means: [34.97057288536242]\n",
      "Minimums: [20.0]\n",
      "Maximums: [50.0]\n",
      "\n",
      "\n",
      "  Median     Mean    Minimum    Maximum\n",
      "--------  -------  ---------  ---------\n",
      "   34.97  34.9706         20         50\n"
     ]
    }
   ],
   "source": [
    "extract_boxplot_values(bp)"
   ]
  },
  {
   "cell_type": "code",
   "execution_count": 31,
   "id": "a41d61e2",
   "metadata": {},
   "outputs": [
    {
     "name": "stdout",
     "output_type": "stream",
     "text": [
      "Skewness coefficient: 0.0007892588462970137\n"
     ]
    }
   ],
   "source": [
    "skewness = dataset['F'].skew()\n",
    "print(f\"Skewness coefficient: {skewness}\")"
   ]
  },
  {
   "cell_type": "code",
   "execution_count": 32,
   "id": "20dc0cae",
   "metadata": {},
   "outputs": [
    {
     "data": {
      "image/png": "[encoded data removed]",
      "text/plain": [
       "<Figure size 640x480 with 1 Axes>"
      ]
     },
     "metadata": {},
     "output_type": "display_data"
    }
   ],
   "source": [
    "bp = plt.boxplot(dataset['G'],showmeans=True)"
   ]
  },
  {
   "cell_type": "code",
   "execution_count": 33,
   "id": "6c2b75e2",
   "metadata": {},
   "outputs": [
    {
     "name": "stdout",
     "output_type": "stream",
     "text": [
      "Exact values from boxplot:\n",
      "\n",
      "Medians: [32.49]\n",
      "Means: [32.50100628068236]\n",
      "Minimums: [20.0]\n",
      "Maximums: [45.0]\n",
      "\n",
      "\n",
      "  Median    Mean    Minimum    Maximum\n",
      "--------  ------  ---------  ---------\n",
      "   32.49  32.501         20         45\n"
     ]
    }
   ],
   "source": [
    "extract_boxplot_values(bp)"
   ]
  },
  {
   "cell_type": "code",
   "execution_count": 34,
   "id": "83e7fd89",
   "metadata": {},
   "outputs": [
    {
     "name": "stdout",
     "output_type": "stream",
     "text": [
      "Skewness coefficient: -0.0003145659003590973\n"
     ]
    }
   ],
   "source": [
    "skewness = dataset['G'].skew()\n",
    "print(f\"Skewness coefficient: {skewness}\")"
   ]
  },
  {
   "cell_type": "code",
   "execution_count": 35,
   "id": "c00aff2c",
   "metadata": {},
   "outputs": [
    {
     "data": {
      "image/png": "[encoded data removed]",
      "text/plain": [
       "<Figure size 640x480 with 1 Axes>"
      ]
     },
     "metadata": {},
     "output_type": "display_data"
    }
   ],
   "source": [
    "bp = plt.boxplot(dataset['Viscosity'],showmeans=True)"
   ]
  },
  {
   "cell_type": "code",
   "execution_count": 36,
   "id": "614d8b26",
   "metadata": {},
   "outputs": [
    {
     "name": "stdout",
     "output_type": "stream",
     "text": [
      "Exact values from boxplot:\n",
      "\n",
      "Medians: [5753.77]\n",
      "Means: [5752.893888335358]\n",
      "Minimums: [1500.0]\n",
      "Maximums: [10000.0]\n",
      "\n",
      "\n",
      "  Median     Mean    Minimum    Maximum\n",
      "--------  -------  ---------  ---------\n",
      " 5753.77  5752.89       1500      10000\n"
     ]
    }
   ],
   "source": [
    "extract_boxplot_values(bp)"
   ]
  },
  {
   "cell_type": "code",
   "execution_count": 37,
   "id": "aa6245f9",
   "metadata": {
    "scrolled": true
   },
   "outputs": [
    {
     "name": "stdout",
     "output_type": "stream",
     "text": [
      "Skewness coefficient: -0.0038507210994315876\n"
     ]
    }
   ],
   "source": [
    "skewness = dataset['Viscosity'].skew()\n",
    "print(f\"Skewness coefficient: {skewness}\")"
   ]
  },
  {
   "cell_type": "code",
   "execution_count": 38,
   "id": "c4f4f431",
   "metadata": {},
   "outputs": [
    {
     "data": {
      "image/png": "[encoded data removed]",
      "text/plain": [
       "<Figure size 640x480 with 1 Axes>"
      ]
     },
     "metadata": {},
     "output_type": "display_data"
    }
   ],
   "source": [
    "bp = plt.boxplot(dataset['Purity'],showmeans=True)"
   ]
  },
  {
   "cell_type": "code",
   "execution_count": 39,
   "id": "6284c5cc",
   "metadata": {},
   "outputs": [
    {
     "name": "stdout",
     "output_type": "stream",
     "text": [
      "Exact values from boxplot:\n",
      "\n",
      "Medians: [0.82]\n",
      "Means: [0.8244711439554988]\n",
      "Minimums: [0.6]\n",
      "Maximums: [1.0]\n",
      "\n",
      "\n",
      "  Median      Mean    Minimum    Maximum\n",
      "--------  --------  ---------  ---------\n",
      "    0.82  0.824471        0.6          1\n"
     ]
    }
   ],
   "source": [
    "extract_boxplot_values(bp)"
   ]
  },
  {
   "cell_type": "code",
   "execution_count": 40,
   "id": "182dbd02",
   "metadata": {},
   "outputs": [
    {
     "name": "stdout",
     "output_type": "stream",
     "text": [
      "Skewness coefficient: -0.07179123782594664\n"
     ]
    }
   ],
   "source": [
    "skewness = dataset['Purity'].skew()\n",
    "print(f\"Skewness coefficient: {skewness}\")"
   ]
  },
  {
   "cell_type": "code",
   "execution_count": 41,
   "id": "cf581dd4",
   "metadata": {
    "scrolled": true
   },
   "outputs": [
    {
     "data": {
      "image/png": "[encoded data removed]",
      "text/plain": [
       "<Figure size 640x480 with 1 Axes>"
      ]
     },
     "metadata": {},
     "output_type": "display_data"
    }
   ],
   "source": [
    "bp = plt.boxplot(dataset['Price'],showmeans=True)"
   ]
  },
  {
   "cell_type": "code",
   "execution_count": 42,
   "id": "36fb1842",
   "metadata": {
    "scrolled": true
   },
   "outputs": [
    {
     "name": "stdout",
     "output_type": "stream",
     "text": [
      "Exact values from boxplot:\n",
      "\n",
      "Medians: [612.96]\n",
      "Means: [594.8076444415758]\n",
      "Minimums: [128.7]\n",
      "Maximums: [976.7]\n",
      "\n",
      "\n",
      "  Median     Mean    Minimum    Maximum\n",
      "--------  -------  ---------  ---------\n",
      "  612.96  594.808      128.7      976.7\n"
     ]
    }
   ],
   "source": [
    "extract_boxplot_values(bp)"
   ]
  },
  {
   "cell_type": "code",
   "execution_count": 43,
   "id": "31a5a9b3",
   "metadata": {},
   "outputs": [
    {
     "name": "stdout",
     "output_type": "stream",
     "text": [
      "Skewness coefficient: -0.24470189786485724\n"
     ]
    }
   ],
   "source": [
    "skewness = dataset['Price'].skew()\n",
    "print(f\"Skewness coefficient: {skewness}\")"
   ]
  },
  {
   "cell_type": "code",
   "execution_count": null,
   "id": "6f22cf6d",
   "metadata": {},
   "outputs": [],
   "source": [
    "import matplotlib.pyplot as plt\n",
    "import seaborn as sns\n",
    "\n",
    "def plot_boxplot_by_category(data, category_col, value_col, plot_title=None, x_label=None, y_label=None):\n",
    "    \"\"\"\n",
    "    Generates a boxplot for values distributed across different categories.\n",
    "\n",
    "    Parameters:\n",
    "    - data: DataFrame containing the data.\n",
    "    - category_col: Name of the column representing the categories.\n",
    "    - value_col: Name of the column representing the values to be plotted.\n",
    "    - plot_title: Title of the plot (optional, dynamically generated if not provided).\n",
    "    - x_label: Label for the X-axis (optional, dynamically generated if not provided).\n",
    "    - y_label: Label for the Y-axis (optional, dynamically generated if not provided).\n",
    "    \"\"\"\n",
    "    # Dynamically generate title and labels if not provided\n",
    "    if not plot_title:\n",
    "        plot_title = f'Boxplot of {value_col} by {category_col}'\n",
    "    if not x_label:\n",
    "        x_label = category_col\n",
    "    if not y_label:\n",
    "        y_label = value_col\n",
    "\n",
    "    plt.figure(figsize=(12, 6))\n",
    "    sns.boxplot(x=category_col, y=value_col, data=data)\n",
    "    plt.title(plot_title)\n",
    "    plt.xlabel(x_label)\n",
    "    plt.ylabel(y_label)\n",
    "    plt.xticks(rotation=45)  # Adjust as needed to make category labels readable\n",
    "    plt.show()"
   ]
  },
  {
   "cell_type": "code",
   "execution_count": null,
   "id": "09047a6a",
   "metadata": {},
   "outputs": [],
   "source": [
    "plot_boxplot_by_category(dataset, 'Pollen_analysis', 'Density', plot_title=None, x_label=None, y_label=None)"
   ]
  },
  {
   "cell_type": "code",
   "execution_count": null,
   "id": "0f5886bd",
   "metadata": {},
   "outputs": [],
   "source": [
    "plot_boxplot_by_category(dataset, 'Pollen_analysis', 'WC', plot_title=None, x_label=None, y_label=None)"
   ]
  },
  {
   "cell_type": "code",
   "execution_count": null,
   "id": "279f400e",
   "metadata": {},
   "outputs": [],
   "source": [
    "plot_boxplot_by_category(dataset, 'Pollen_analysis', 'pH', plot_title=None, x_label=None, y_label=None)"
   ]
  },
  {
   "cell_type": "code",
   "execution_count": null,
   "id": "60b3890a",
   "metadata": {},
   "outputs": [],
   "source": [
    "plot_boxplot_by_category(dataset, 'Pollen_analysis', 'EC', plot_title=None, x_label=None, y_label=None)"
   ]
  },
  {
   "cell_type": "code",
   "execution_count": null,
   "id": "65c192c3",
   "metadata": {},
   "outputs": [],
   "source": [
    "plot_boxplot_by_category(dataset, 'Pollen_analysis', 'F', plot_title=None, x_label=None, y_label=None)"
   ]
  },
  {
   "cell_type": "code",
   "execution_count": null,
   "id": "ed528f04",
   "metadata": {},
   "outputs": [],
   "source": [
    "plot_boxplot_by_category(dataset, 'Pollen_analysis', 'G', plot_title=None, x_label=None, y_label=None)"
   ]
  },
  {
   "cell_type": "code",
   "execution_count": null,
   "id": "6445418b",
   "metadata": {},
   "outputs": [],
   "source": [
    "plot_boxplot_by_category(dataset, 'Pollen_analysis', 'Viscosity', plot_title=None, x_label=None, y_label=None)"
   ]
  },
  {
   "cell_type": "code",
   "execution_count": null,
   "id": "0493ad2d",
   "metadata": {},
   "outputs": [],
   "source": [
    "plot_boxplot_by_category(dataset, 'Pollen_analysis', 'Purity', plot_title=None, x_label=None, y_label=None)"
   ]
  },
  {
   "cell_type": "code",
   "execution_count": 1,
   "id": "b09339dc",
   "metadata": {},
   "outputs": [
    {
     "ename": "NameError",
     "evalue": "name 'plot_boxplot_by_category' is not defined",
     "output_type": "error",
     "traceback": [
      "\u001b[1;31m---------------------------------------------------------------------------\u001b[0m",
      "\u001b[1;31mNameError\u001b[0m                                 Traceback (most recent call last)",
      "Cell \u001b[1;32mIn[1], line 1\u001b[0m\n\u001b[1;32m----> 1\u001b[0m plot_boxplot_by_category(dataset, \u001b[38;5;124m'\u001b[39m\u001b[38;5;124mPollen_analysis\u001b[39m\u001b[38;5;124m'\u001b[39m, \u001b[38;5;124m'\u001b[39m\u001b[38;5;124mPrice\u001b[39m\u001b[38;5;124m'\u001b[39m, plot_title\u001b[38;5;241m=\u001b[39m\u001b[38;5;28;01mNone\u001b[39;00m, x_label\u001b[38;5;241m=\u001b[39m\u001b[38;5;28;01mNone\u001b[39;00m, y_label\u001b[38;5;241m=\u001b[39m\u001b[38;5;28;01mNone\u001b[39;00m)\n",
      "\u001b[1;31mNameError\u001b[0m: name 'plot_boxplot_by_category' is not defined"
     ]
    }
   ],
   "source": [
    "plot_boxplot_by_category(dataset, 'Pollen_analysis', 'Price', plot_title=None, x_label=None, y_label=None)"
   ]
  },
  {
   "cell_type": "code",
   "execution_count": null,
   "id": "07f67d26",
   "metadata": {},
   "outputs": [],
   "source": []
  }
 ],
 "metadata": {
  "kernelspec": {
   "display_name": "Python 3 (ipykernel)",
   "language": "python",
   "name": "python3"
  },
  "language_info": {
   "codemirror_mode": {
    "name": "ipython",
    "version": 3
   },
   "file_extension": ".py",
   "mimetype": "text/x-python",
   "name": "python",
   "nbconvert_exporter": "python",
   "pygments_lexer": "ipython3",
   "version": "3.11.5"
  }
 },
 "nbformat": 4,
 "nbformat_minor": 5
}
